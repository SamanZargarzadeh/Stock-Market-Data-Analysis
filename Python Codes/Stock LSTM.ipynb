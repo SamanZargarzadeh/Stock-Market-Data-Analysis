{
 "cells": [
  {
   "cell_type": "markdown",
   "id": "44487efd",
   "metadata": {},
   "source": [
    "# LSTM Model"
   ]
  },
  {
   "cell_type": "code",
   "execution_count": 14,
   "id": "a9a9d70b",
   "metadata": {},
   "outputs": [],
   "source": [
    "import pandas as pd\n",
    "import numpy as np\n",
    "import matplotlib.pyplot as plt\n",
    "import yfinance as yf"
   ]
  },
  {
   "cell_type": "code",
   "execution_count": 15,
   "id": "0b491da7",
   "metadata": {
    "scrolled": true
   },
   "outputs": [
    {
     "name": "stdout",
     "output_type": "stream",
     "text": [
      "Requirement already satisfied: keras in ./opt/anaconda3/lib/python3.9/site-packages (2.11.0)\n",
      "Requirement already satisfied: tensorflow in ./opt/anaconda3/lib/python3.9/site-packages (2.11.0)\n",
      "Requirement already satisfied: h5py>=2.9.0 in ./opt/anaconda3/lib/python3.9/site-packages (from tensorflow) (3.6.0)\n",
      "Requirement already satisfied: termcolor>=1.1.0 in ./opt/anaconda3/lib/python3.9/site-packages (from tensorflow) (2.1.1)\n",
      "Requirement already satisfied: astunparse>=1.6.0 in ./opt/anaconda3/lib/python3.9/site-packages (from tensorflow) (1.6.3)\n",
      "Requirement already satisfied: tensorflow-io-gcs-filesystem>=0.23.1 in ./opt/anaconda3/lib/python3.9/site-packages (from tensorflow) (0.28.0)\n",
      "Requirement already satisfied: gast<=0.4.0,>=0.2.1 in ./opt/anaconda3/lib/python3.9/site-packages (from tensorflow) (0.4.0)\n",
      "Requirement already satisfied: libclang>=13.0.0 in ./opt/anaconda3/lib/python3.9/site-packages (from tensorflow) (14.0.6)\n",
      "Requirement already satisfied: protobuf<3.20,>=3.9.2 in ./opt/anaconda3/lib/python3.9/site-packages (from tensorflow) (3.19.1)\n",
      "Requirement already satisfied: google-pasta>=0.1.1 in ./opt/anaconda3/lib/python3.9/site-packages (from tensorflow) (0.2.0)\n",
      "Requirement already satisfied: keras<2.12,>=2.11.0 in ./opt/anaconda3/lib/python3.9/site-packages (from tensorflow) (2.11.0)\n",
      "Requirement already satisfied: tensorboard<2.12,>=2.11 in ./opt/anaconda3/lib/python3.9/site-packages (from tensorflow) (2.11.0)\n",
      "Requirement already satisfied: setuptools in ./opt/anaconda3/lib/python3.9/site-packages (from tensorflow) (61.2.0)\n",
      "Requirement already satisfied: absl-py>=1.0.0 in ./opt/anaconda3/lib/python3.9/site-packages (from tensorflow) (1.3.0)\n",
      "Requirement already satisfied: tensorflow-estimator<2.12,>=2.11.0 in ./opt/anaconda3/lib/python3.9/site-packages (from tensorflow) (2.11.0)\n",
      "Requirement already satisfied: grpcio<2.0,>=1.24.3 in ./opt/anaconda3/lib/python3.9/site-packages (from tensorflow) (1.42.0)\n",
      "Requirement already satisfied: typing-extensions>=3.6.6 in ./opt/anaconda3/lib/python3.9/site-packages (from tensorflow) (4.1.1)\n",
      "Requirement already satisfied: six>=1.12.0 in ./opt/anaconda3/lib/python3.9/site-packages (from tensorflow) (1.16.0)\n",
      "Requirement already satisfied: opt-einsum>=2.3.2 in ./opt/anaconda3/lib/python3.9/site-packages (from tensorflow) (3.3.0)\n",
      "Requirement already satisfied: numpy>=1.20 in ./opt/anaconda3/lib/python3.9/site-packages (from tensorflow) (1.21.5)\n",
      "Requirement already satisfied: packaging in ./opt/anaconda3/lib/python3.9/site-packages (from tensorflow) (21.3)\n",
      "Requirement already satisfied: wrapt>=1.11.0 in ./opt/anaconda3/lib/python3.9/site-packages (from tensorflow) (1.12.1)\n",
      "Requirement already satisfied: flatbuffers>=2.0 in ./opt/anaconda3/lib/python3.9/site-packages (from tensorflow) (22.11.23)\n",
      "Requirement already satisfied: wheel<1.0,>=0.23.0 in ./opt/anaconda3/lib/python3.9/site-packages (from astunparse>=1.6.0->tensorflow) (0.37.1)\n",
      "Requirement already satisfied: tensorboard-plugin-wit>=1.6.0 in ./opt/anaconda3/lib/python3.9/site-packages (from tensorboard<2.12,>=2.11->tensorflow) (1.8.1)\n",
      "Requirement already satisfied: google-auth-oauthlib<0.5,>=0.4.1 in ./opt/anaconda3/lib/python3.9/site-packages (from tensorboard<2.12,>=2.11->tensorflow) (0.4.6)\n",
      "Requirement already satisfied: werkzeug>=1.0.1 in ./opt/anaconda3/lib/python3.9/site-packages (from tensorboard<2.12,>=2.11->tensorflow) (2.0.3)\n",
      "Requirement already satisfied: tensorboard-data-server<0.7.0,>=0.6.0 in ./opt/anaconda3/lib/python3.9/site-packages (from tensorboard<2.12,>=2.11->tensorflow) (0.6.1)\n",
      "Requirement already satisfied: google-auth<3,>=1.6.3 in ./opt/anaconda3/lib/python3.9/site-packages (from tensorboard<2.12,>=2.11->tensorflow) (1.33.0)\n",
      "Requirement already satisfied: requests<3,>=2.21.0 in ./opt/anaconda3/lib/python3.9/site-packages (from tensorboard<2.12,>=2.11->tensorflow) (2.27.1)\n",
      "Requirement already satisfied: markdown>=2.6.8 in ./opt/anaconda3/lib/python3.9/site-packages (from tensorboard<2.12,>=2.11->tensorflow) (3.3.4)\n",
      "Requirement already satisfied: pyasn1-modules>=0.2.1 in ./opt/anaconda3/lib/python3.9/site-packages (from google-auth<3,>=1.6.3->tensorboard<2.12,>=2.11->tensorflow) (0.2.8)\n",
      "Requirement already satisfied: cachetools<5.0,>=2.0.0 in ./opt/anaconda3/lib/python3.9/site-packages (from google-auth<3,>=1.6.3->tensorboard<2.12,>=2.11->tensorflow) (4.2.2)\n",
      "Requirement already satisfied: rsa<5,>=3.1.4 in ./opt/anaconda3/lib/python3.9/site-packages (from google-auth<3,>=1.6.3->tensorboard<2.12,>=2.11->tensorflow) (4.7.2)\n",
      "Requirement already satisfied: requests-oauthlib>=0.7.0 in ./opt/anaconda3/lib/python3.9/site-packages (from google-auth-oauthlib<0.5,>=0.4.1->tensorboard<2.12,>=2.11->tensorflow) (1.3.1)\n",
      "Requirement already satisfied: pyasn1<0.5.0,>=0.4.6 in ./opt/anaconda3/lib/python3.9/site-packages (from pyasn1-modules>=0.2.1->google-auth<3,>=1.6.3->tensorboard<2.12,>=2.11->tensorflow) (0.4.8)\n",
      "Requirement already satisfied: idna<4,>=2.5 in ./opt/anaconda3/lib/python3.9/site-packages (from requests<3,>=2.21.0->tensorboard<2.12,>=2.11->tensorflow) (3.3)\n",
      "Requirement already satisfied: urllib3<1.27,>=1.21.1 in ./opt/anaconda3/lib/python3.9/site-packages (from requests<3,>=2.21.0->tensorboard<2.12,>=2.11->tensorflow) (1.26.9)\n",
      "Requirement already satisfied: certifi>=2017.4.17 in ./opt/anaconda3/lib/python3.9/site-packages (from requests<3,>=2.21.0->tensorboard<2.12,>=2.11->tensorflow) (2021.10.8)\n",
      "Requirement already satisfied: charset-normalizer~=2.0.0 in ./opt/anaconda3/lib/python3.9/site-packages (from requests<3,>=2.21.0->tensorboard<2.12,>=2.11->tensorflow) (2.0.4)\n",
      "Requirement already satisfied: oauthlib>=3.0.0 in ./opt/anaconda3/lib/python3.9/site-packages (from requests-oauthlib>=0.7.0->google-auth-oauthlib<0.5,>=0.4.1->tensorboard<2.12,>=2.11->tensorflow) (3.2.2)\n",
      "Requirement already satisfied: pyparsing!=3.0.5,>=2.0.2 in ./opt/anaconda3/lib/python3.9/site-packages (from packaging->tensorflow) (3.0.4)\n"
     ]
    }
   ],
   "source": [
    "!pip install keras\n",
    "!pip install tensorflow\n",
    "\n",
    "from keras.models import Sequential\n",
    "from keras.layers import Dense, LSTM\n",
    "\n",
    "from sklearn.preprocessing import MinMaxScaler\n",
    "\n",
    "plt.style.use('fivethirtyeight')"
   ]
  },
  {
   "cell_type": "code",
   "execution_count": 16,
   "id": "24b5f099",
   "metadata": {},
   "outputs": [
    {
     "name": "stdout",
     "output_type": "stream",
     "text": [
      "[*********************100%***********************]  1 of 1 completed\n"
     ]
    },
    {
     "data": {
      "text/html": [
       "<div>\n",
       "<style scoped>\n",
       "    .dataframe tbody tr th:only-of-type {\n",
       "        vertical-align: middle;\n",
       "    }\n",
       "\n",
       "    .dataframe tbody tr th {\n",
       "        vertical-align: top;\n",
       "    }\n",
       "\n",
       "    .dataframe thead th {\n",
       "        text-align: right;\n",
       "    }\n",
       "</style>\n",
       "<table border=\"1\" class=\"dataframe\">\n",
       "  <thead>\n",
       "    <tr style=\"text-align: right;\">\n",
       "      <th></th>\n",
       "      <th>Open</th>\n",
       "      <th>High</th>\n",
       "      <th>Low</th>\n",
       "      <th>Close</th>\n",
       "      <th>Adj Close</th>\n",
       "      <th>Volume</th>\n",
       "    </tr>\n",
       "    <tr>\n",
       "      <th>Date</th>\n",
       "      <th></th>\n",
       "      <th></th>\n",
       "      <th></th>\n",
       "      <th></th>\n",
       "      <th></th>\n",
       "      <th></th>\n",
       "    </tr>\n",
       "  </thead>\n",
       "  <tbody>\n",
       "    <tr>\n",
       "      <th>2012-11-26</th>\n",
       "      <td>1409.150024</td>\n",
       "      <td>1409.150024</td>\n",
       "      <td>1397.680054</td>\n",
       "      <td>1406.290039</td>\n",
       "      <td>1406.290039</td>\n",
       "      <td>2948960000</td>\n",
       "    </tr>\n",
       "    <tr>\n",
       "      <th>2012-11-27</th>\n",
       "      <td>1406.290039</td>\n",
       "      <td>1409.010010</td>\n",
       "      <td>1398.030029</td>\n",
       "      <td>1398.939941</td>\n",
       "      <td>1398.939941</td>\n",
       "      <td>3323120000</td>\n",
       "    </tr>\n",
       "    <tr>\n",
       "      <th>2012-11-28</th>\n",
       "      <td>1398.770020</td>\n",
       "      <td>1410.310059</td>\n",
       "      <td>1385.430054</td>\n",
       "      <td>1409.930054</td>\n",
       "      <td>1409.930054</td>\n",
       "      <td>3359250000</td>\n",
       "    </tr>\n",
       "    <tr>\n",
       "      <th>2012-11-29</th>\n",
       "      <td>1409.959961</td>\n",
       "      <td>1419.699951</td>\n",
       "      <td>1409.040039</td>\n",
       "      <td>1415.949951</td>\n",
       "      <td>1415.949951</td>\n",
       "      <td>3356850000</td>\n",
       "    </tr>\n",
       "    <tr>\n",
       "      <th>2012-11-30</th>\n",
       "      <td>1415.949951</td>\n",
       "      <td>1418.859985</td>\n",
       "      <td>1411.630005</td>\n",
       "      <td>1416.180054</td>\n",
       "      <td>1416.180054</td>\n",
       "      <td>3966000000</td>\n",
       "    </tr>\n",
       "    <tr>\n",
       "      <th>...</th>\n",
       "      <td>...</td>\n",
       "      <td>...</td>\n",
       "      <td>...</td>\n",
       "      <td>...</td>\n",
       "      <td>...</td>\n",
       "      <td>...</td>\n",
       "    </tr>\n",
       "    <tr>\n",
       "      <th>2022-11-17</th>\n",
       "      <td>3919.260010</td>\n",
       "      <td>3954.330078</td>\n",
       "      <td>3906.540039</td>\n",
       "      <td>3946.560059</td>\n",
       "      <td>3946.560059</td>\n",
       "      <td>4051780000</td>\n",
       "    </tr>\n",
       "    <tr>\n",
       "      <th>2022-11-18</th>\n",
       "      <td>3966.389893</td>\n",
       "      <td>3979.889893</td>\n",
       "      <td>3935.979980</td>\n",
       "      <td>3965.340088</td>\n",
       "      <td>3965.340088</td>\n",
       "      <td>4037360000</td>\n",
       "    </tr>\n",
       "    <tr>\n",
       "      <th>2022-11-21</th>\n",
       "      <td>3956.229980</td>\n",
       "      <td>3962.000000</td>\n",
       "      <td>3933.340088</td>\n",
       "      <td>3949.939941</td>\n",
       "      <td>3949.939941</td>\n",
       "      <td>3850690000</td>\n",
       "    </tr>\n",
       "    <tr>\n",
       "      <th>2022-11-22</th>\n",
       "      <td>3965.510010</td>\n",
       "      <td>4005.879883</td>\n",
       "      <td>3956.879883</td>\n",
       "      <td>4003.580078</td>\n",
       "      <td>4003.580078</td>\n",
       "      <td>3887990000</td>\n",
       "    </tr>\n",
       "    <tr>\n",
       "      <th>2022-11-23</th>\n",
       "      <td>4000.300049</td>\n",
       "      <td>4033.780029</td>\n",
       "      <td>3998.659912</td>\n",
       "      <td>4027.260010</td>\n",
       "      <td>4027.260010</td>\n",
       "      <td>3279720000</td>\n",
       "    </tr>\n",
       "  </tbody>\n",
       "</table>\n",
       "<p>2518 rows × 6 columns</p>\n",
       "</div>"
      ],
      "text/plain": [
       "                   Open         High          Low        Close    Adj Close  \\\n",
       "Date                                                                          \n",
       "2012-11-26  1409.150024  1409.150024  1397.680054  1406.290039  1406.290039   \n",
       "2012-11-27  1406.290039  1409.010010  1398.030029  1398.939941  1398.939941   \n",
       "2012-11-28  1398.770020  1410.310059  1385.430054  1409.930054  1409.930054   \n",
       "2012-11-29  1409.959961  1419.699951  1409.040039  1415.949951  1415.949951   \n",
       "2012-11-30  1415.949951  1418.859985  1411.630005  1416.180054  1416.180054   \n",
       "...                 ...          ...          ...          ...          ...   \n",
       "2022-11-17  3919.260010  3954.330078  3906.540039  3946.560059  3946.560059   \n",
       "2022-11-18  3966.389893  3979.889893  3935.979980  3965.340088  3965.340088   \n",
       "2022-11-21  3956.229980  3962.000000  3933.340088  3949.939941  3949.939941   \n",
       "2022-11-22  3965.510010  4005.879883  3956.879883  4003.580078  4003.580078   \n",
       "2022-11-23  4000.300049  4033.780029  3998.659912  4027.260010  4027.260010   \n",
       "\n",
       "                Volume  \n",
       "Date                    \n",
       "2012-11-26  2948960000  \n",
       "2012-11-27  3323120000  \n",
       "2012-11-28  3359250000  \n",
       "2012-11-29  3356850000  \n",
       "2012-11-30  3966000000  \n",
       "...                ...  \n",
       "2022-11-17  4051780000  \n",
       "2022-11-18  4037360000  \n",
       "2022-11-21  3850690000  \n",
       "2022-11-22  3887990000  \n",
       "2022-11-23  3279720000  \n",
       "\n",
       "[2518 rows x 6 columns]"
      ]
     },
     "execution_count": 16,
     "metadata": {},
     "output_type": "execute_result"
    }
   ],
   "source": [
    "#Dataset ^GSPC for example!\n",
    "\n",
    "df = yf.download(\"^GSPC\", start=\"2012-11-25\", end=\"2022-11-25\")\n",
    "df"
   ]
  },
  {
   "cell_type": "code",
   "execution_count": 17,
   "id": "80b28ecc",
   "metadata": {},
   "outputs": [
    {
     "data": {
      "image/png": "[encoded data removed]",
      "text/plain": [
       "<Figure size 1008x504 with 1 Axes>"
      ]
     },
     "metadata": {},
     "output_type": "display_data"
    }
   ],
   "source": [
    "#Our total dataset graph\n",
    "plt.figure(figsize=(14,7))\n",
    "plt.title('Close Price')\n",
    "plt.plot(df['Close'], color=\"black\", alpha = 0.5, label= 'Close')\n",
    "\n",
    "plt.xlabel ('Date')\n",
    "plt.ylabel ('Close Price')\n",
    "plt.legend ()\n",
    "plt.show()"
   ]
  },
  {
   "cell_type": "code",
   "execution_count": 18,
   "id": "47fe5b76",
   "metadata": {},
   "outputs": [
    {
     "data": {
      "text/plain": [
       "2015"
      ]
     },
     "execution_count": 18,
     "metadata": {},
     "output_type": "execute_result"
    }
   ],
   "source": [
    "data = df.filter(['Close'])\n",
    "dataset = data.values\n",
    "tlen = int(np.ceil( len(dataset) * .80 )) #Use 80% of dataset\n",
    "\n",
    "tlen"
   ]
  },
  {
   "cell_type": "code",
   "execution_count": 19,
   "id": "83b4dce6",
   "metadata": {},
   "outputs": [],
   "source": [
    "#Scaling Data\n",
    "\n",
    "scaler = MinMaxScaler(feature_range=(0,1))\n",
    "scaled_data = scaler.fit_transform(dataset)\n",
    "\n"
   ]
  },
  {
   "cell_type": "code",
   "execution_count": 20,
   "id": "b6817a00",
   "metadata": {},
   "outputs": [
    {
     "data": {
      "text/plain": [
       "array([[0.00216331],\n",
       "       [0.        ],\n",
       "       [0.00323465],\n",
       "       ...,\n",
       "       [0.75081967],\n",
       "       [0.76660723],\n",
       "       [0.77357679]])"
      ]
     },
     "execution_count": 20,
     "metadata": {},
     "output_type": "execute_result"
    }
   ],
   "source": [
    "scaled_data"
   ]
  },
  {
   "cell_type": "code",
   "execution_count": 21,
   "id": "6614f3a8",
   "metadata": {},
   "outputs": [
    {
     "data": {
      "text/plain": [
       "(1955, 60, 1)"
      ]
     },
     "execution_count": 21,
     "metadata": {},
     "output_type": "execute_result"
    }
   ],
   "source": [
    "train_data = scaled_data[0:int(tlen), :]\n",
    "# Split the train dataset \n",
    "x_train = []\n",
    "y_train = []\n",
    "\n",
    "for i in range(60, len(train_data)):\n",
    "    x_train.append(train_data[i-60:i, 0])\n",
    "    y_train.append(train_data[i, 0])\n",
    "\n",
    "        \n",
    "# Convert to numpy arrays \n",
    "x_train = np.array(x_train)\n",
    "y_train = np.array(y_train)\n",
    "\n",
    "# Reshape the data #LSTM needs 3D\n",
    "x_train = np.reshape(x_train, (x_train.shape[0], x_train.shape[1], 1))\n",
    "x_train.shape"
   ]
  },
  {
   "cell_type": "code",
   "execution_count": 22,
   "id": "720438be",
   "metadata": {
    "scrolled": true
   },
   "outputs": [
    {
     "name": "stderr",
     "output_type": "stream",
     "text": [
      "2022-12-03 13:49:04.752529: I tensorflow/core/platform/cpu_feature_guard.cc:193] This TensorFlow binary is optimized with oneAPI Deep Neural Network Library (oneDNN) to use the following CPU instructions in performance-critical operations:  AVX2 FMA\n",
      "To enable them in other operations, rebuild TensorFlow with the appropriate compiler flags.\n"
     ]
    }
   ],
   "source": [
    "# the LSTM model\n",
    "model = Sequential()\n",
    "model.add(LSTM(50, return_sequences=True, input_shape= (x_train.shape[1], 1)))\n",
    "model.add(LSTM(50, return_sequences=False))\n",
    "model.add(Dense(25))\n",
    "model.add(Dense(1))\n",
    "\n",
    "# Compile model\n",
    "model.compile(optimizer='adam', loss='mean_squared_error')\n",
    "\n"
   ]
  },
  {
   "cell_type": "code",
   "execution_count": 28,
   "id": "9898e205",
   "metadata": {},
   "outputs": [
    {
     "name": "stdout",
     "output_type": "stream",
     "text": [
      "489/489 [==============================] - 13s 27ms/step - loss: 3.1336e-04\n",
      "16/16 [==============================] - 0s 10ms/step\n"
     ]
    }
   ],
   "source": [
    "batch_size_list=[]\n",
    "epochs_list=[]\n",
    "RMSE_list=[]\n",
    "elist=[1]\n",
    "blist=[4]\n",
    "for b in blist:\n",
    "    for e in elist:\n",
    "        # Train the model\n",
    "        model.fit(x_train, y_train, batch_size=b, epochs=e)\n",
    "\n",
    "        test_data = scaled_data[tlen - 60: , :]\n",
    "        # Create the data sets x_test and y_test\n",
    "        \n",
    "        x_test = []\n",
    "        y_test = dataset[tlen:, :]\n",
    "        for i in range(60, len(test_data)):\n",
    "            x_test.append(test_data[i-60:i, 0])\n",
    "    \n",
    "        # numpy array\n",
    "        x_test = np.array(x_test)\n",
    "        x_test = np.reshape(x_test, (x_test.shape[0], x_test.shape[1], 1 ))\n",
    "\n",
    "        # Predict the closing price\n",
    "        predictions = model.predict(x_test)\n",
    "        \n",
    "        predictions = scaler.inverse_transform(predictions) #Unscale\n",
    "\n",
    "        # root mean squared error (RMSE)\n",
    "        RMSE = np.sqrt(np.mean(((predictions - y_test) ** 2)))\n",
    "        \n",
    "        # root mean absoulate percentage error (MAPE)\n",
    "        MAPE = np.mean(np.abs((predictions - y_test) / y_test ))*100\n",
    "        \n",
    "        batch_size_list.append(b)\n",
    "        epochs_list.append(e)\n",
    "        RMSE_list.append(RMSE)\n",
    "\n"
   ]
  },
  {
   "cell_type": "code",
   "execution_count": 30,
   "id": "63c22d06",
   "metadata": {},
   "outputs": [
    {
     "name": "stdout",
     "output_type": "stream",
     "text": [
      "The model Root Mean Squared Error is: 83.24047431906105\n",
      "The model Root Absoulate Percentage Error is: 1.5484908665705477\n"
     ]
    }
   ],
   "source": [
    "print(\"The model Root Mean Squared Error is:\" , RMSE)\n",
    "print(\"The model Root Absoulate Percentage Error is:\" ,MAPE)"
   ]
  },
  {
   "cell_type": "code",
   "execution_count": 37,
   "id": "1203a287",
   "metadata": {},
   "outputs": [
    {
     "name": "stderr",
     "output_type": "stream",
     "text": [
      "/var/folders/s5/4b25bvq14pqbm1qxsg0hhlr40000gn/T/ipykernel_1596/2785550556.py:4: SettingWithCopyWarning: \n",
      "A value is trying to be set on a copy of a slice from a DataFrame.\n",
      "Try using .loc[row_indexer,col_indexer] = value instead\n",
      "\n",
      "See the caveats in the documentation: https://pandas.pydata.org/pandas-docs/stable/user_guide/indexing.html#returning-a-view-versus-a-copy\n",
      "  valid['Predictions'] = predictions\n"
     ]
    },
    {
     "data": {
      "image/png": "[encoded data removed]",
      "text/plain": [
       "<Figure size 1152x432 with 1 Axes>"
      ]
     },
     "metadata": {},
     "output_type": "display_data"
    }
   ],
   "source": [
    "# Plot the data for evaluation\n",
    "train = data[:tlen]\n",
    "valid = data[tlen:]\n",
    "valid['Predictions'] = predictions\n",
    "\n",
    "# Visualize the data\n",
    "plt.figure(figsize=(16,6))\n",
    "plt.title('LSTM Model for ^GSPC Ticker')\n",
    "plt.xlabel('Date', fontsize=18)\n",
    "plt.ylabel('Close Price USD ($)', fontsize=18)\n",
    "plt.plot(valid[['Close', 'Predictions'] ] )\n",
    "plt.legend(['Actual', 'Predicted'], loc='upper right')\n",
    "plt.show()"
   ]
  },
  {
   "cell_type": "markdown",
   "id": "0dfde72f",
   "metadata": {},
   "source": [
    "# Prediction Upcoming days"
   ]
  },
  {
   "cell_type": "markdown",
   "id": "9f0f492d",
   "metadata": {},
   "source": [
    "The prediction is done for the upcoming days but as the LSTM model needs the 60 days actual data for predict the next day the our first day's prediction is realable and we just put that on the report and slides but we do the prediction for the long term based on the predicted data which is not academic thing to do."
   ]
  },
  {
   "cell_type": "code",
   "execution_count": 40,
   "id": "4be539d8",
   "metadata": {},
   "outputs": [
    {
     "name": "stdout",
     "output_type": "stream",
     "text": [
      "[*********************100%***********************]  1 of 1 completed\n"
     ]
    },
    {
     "data": {
      "text/html": [
       "<div>\n",
       "<style scoped>\n",
       "    .dataframe tbody tr th:only-of-type {\n",
       "        vertical-align: middle;\n",
       "    }\n",
       "\n",
       "    .dataframe tbody tr th {\n",
       "        vertical-align: top;\n",
       "    }\n",
       "\n",
       "    .dataframe thead th {\n",
       "        text-align: right;\n",
       "    }\n",
       "</style>\n",
       "<table border=\"1\" class=\"dataframe\">\n",
       "  <thead>\n",
       "    <tr style=\"text-align: right;\">\n",
       "      <th></th>\n",
       "      <th>index</th>\n",
       "      <th>Date</th>\n",
       "      <th>Open</th>\n",
       "      <th>High</th>\n",
       "      <th>Low</th>\n",
       "      <th>Close</th>\n",
       "      <th>Adj Close</th>\n",
       "      <th>Volume</th>\n",
       "    </tr>\n",
       "  </thead>\n",
       "  <tbody>\n",
       "    <tr>\n",
       "      <th>0</th>\n",
       "      <td>0</td>\n",
       "      <td>2012-11-26 00:00:00</td>\n",
       "      <td>1409.150024</td>\n",
       "      <td>1409.150024</td>\n",
       "      <td>1397.680054</td>\n",
       "      <td>1406.290039</td>\n",
       "      <td>1406.290039</td>\n",
       "      <td>2.948960e+09</td>\n",
       "    </tr>\n",
       "    <tr>\n",
       "      <th>1</th>\n",
       "      <td>1</td>\n",
       "      <td>2012-11-27 00:00:00</td>\n",
       "      <td>1406.290039</td>\n",
       "      <td>1409.010010</td>\n",
       "      <td>1398.030029</td>\n",
       "      <td>1398.939941</td>\n",
       "      <td>1398.939941</td>\n",
       "      <td>3.323120e+09</td>\n",
       "    </tr>\n",
       "    <tr>\n",
       "      <th>2</th>\n",
       "      <td>2</td>\n",
       "      <td>2012-11-28 00:00:00</td>\n",
       "      <td>1398.770020</td>\n",
       "      <td>1410.310059</td>\n",
       "      <td>1385.430054</td>\n",
       "      <td>1409.930054</td>\n",
       "      <td>1409.930054</td>\n",
       "      <td>3.359250e+09</td>\n",
       "    </tr>\n",
       "    <tr>\n",
       "      <th>3</th>\n",
       "      <td>3</td>\n",
       "      <td>2012-11-29 00:00:00</td>\n",
       "      <td>1409.959961</td>\n",
       "      <td>1419.699951</td>\n",
       "      <td>1409.040039</td>\n",
       "      <td>1415.949951</td>\n",
       "      <td>1415.949951</td>\n",
       "      <td>3.356850e+09</td>\n",
       "    </tr>\n",
       "    <tr>\n",
       "      <th>4</th>\n",
       "      <td>4</td>\n",
       "      <td>2012-11-30 00:00:00</td>\n",
       "      <td>1415.949951</td>\n",
       "      <td>1418.859985</td>\n",
       "      <td>1411.630005</td>\n",
       "      <td>1416.180054</td>\n",
       "      <td>1416.180054</td>\n",
       "      <td>3.966000e+09</td>\n",
       "    </tr>\n",
       "    <tr>\n",
       "      <th>...</th>\n",
       "      <td>...</td>\n",
       "      <td>...</td>\n",
       "      <td>...</td>\n",
       "      <td>...</td>\n",
       "      <td>...</td>\n",
       "      <td>...</td>\n",
       "      <td>...</td>\n",
       "      <td>...</td>\n",
       "    </tr>\n",
       "    <tr>\n",
       "      <th>2581</th>\n",
       "      <td>62</td>\n",
       "      <td>2023-01-27</td>\n",
       "      <td>NaN</td>\n",
       "      <td>NaN</td>\n",
       "      <td>NaN</td>\n",
       "      <td>NaN</td>\n",
       "      <td>NaN</td>\n",
       "      <td>NaN</td>\n",
       "    </tr>\n",
       "    <tr>\n",
       "      <th>2582</th>\n",
       "      <td>63</td>\n",
       "      <td>2023-01-28</td>\n",
       "      <td>NaN</td>\n",
       "      <td>NaN</td>\n",
       "      <td>NaN</td>\n",
       "      <td>NaN</td>\n",
       "      <td>NaN</td>\n",
       "      <td>NaN</td>\n",
       "    </tr>\n",
       "    <tr>\n",
       "      <th>2583</th>\n",
       "      <td>64</td>\n",
       "      <td>2023-01-29</td>\n",
       "      <td>NaN</td>\n",
       "      <td>NaN</td>\n",
       "      <td>NaN</td>\n",
       "      <td>NaN</td>\n",
       "      <td>NaN</td>\n",
       "      <td>NaN</td>\n",
       "    </tr>\n",
       "    <tr>\n",
       "      <th>2584</th>\n",
       "      <td>65</td>\n",
       "      <td>2023-01-30</td>\n",
       "      <td>NaN</td>\n",
       "      <td>NaN</td>\n",
       "      <td>NaN</td>\n",
       "      <td>NaN</td>\n",
       "      <td>NaN</td>\n",
       "      <td>NaN</td>\n",
       "    </tr>\n",
       "    <tr>\n",
       "      <th>2585</th>\n",
       "      <td>66</td>\n",
       "      <td>2023-01-31</td>\n",
       "      <td>NaN</td>\n",
       "      <td>NaN</td>\n",
       "      <td>NaN</td>\n",
       "      <td>NaN</td>\n",
       "      <td>NaN</td>\n",
       "      <td>NaN</td>\n",
       "    </tr>\n",
       "  </tbody>\n",
       "</table>\n",
       "<p>2586 rows × 8 columns</p>\n",
       "</div>"
      ],
      "text/plain": [
       "      index                 Date         Open         High          Low  \\\n",
       "0         0  2012-11-26 00:00:00  1409.150024  1409.150024  1397.680054   \n",
       "1         1  2012-11-27 00:00:00  1406.290039  1409.010010  1398.030029   \n",
       "2         2  2012-11-28 00:00:00  1398.770020  1410.310059  1385.430054   \n",
       "3         3  2012-11-29 00:00:00  1409.959961  1419.699951  1409.040039   \n",
       "4         4  2012-11-30 00:00:00  1415.949951  1418.859985  1411.630005   \n",
       "...     ...                  ...          ...          ...          ...   \n",
       "2581     62           2023-01-27          NaN          NaN          NaN   \n",
       "2582     63           2023-01-28          NaN          NaN          NaN   \n",
       "2583     64           2023-01-29          NaN          NaN          NaN   \n",
       "2584     65           2023-01-30          NaN          NaN          NaN   \n",
       "2585     66           2023-01-31          NaN          NaN          NaN   \n",
       "\n",
       "            Close    Adj Close        Volume  \n",
       "0     1406.290039  1406.290039  2.948960e+09  \n",
       "1     1398.939941  1398.939941  3.323120e+09  \n",
       "2     1409.930054  1409.930054  3.359250e+09  \n",
       "3     1415.949951  1415.949951  3.356850e+09  \n",
       "4     1416.180054  1416.180054  3.966000e+09  \n",
       "...           ...          ...           ...  \n",
       "2581          NaN          NaN           NaN  \n",
       "2582          NaN          NaN           NaN  \n",
       "2583          NaN          NaN           NaN  \n",
       "2584          NaN          NaN           NaN  \n",
       "2585          NaN          NaN           NaN  \n",
       "\n",
       "[2586 rows x 8 columns]"
      ]
     },
     "execution_count": 40,
     "metadata": {},
     "output_type": "execute_result"
    }
   ],
   "source": [
    "Days_2023=pd.read_csv(\"/Users/macbook/Desktop/Date.csv\")\n",
    "Stock = yf.download(\"^GSPC\", start=\"2012-11-25\", end=\"2022-11-27\")\n",
    "Stock=Stock.reset_index()\n",
    "StockMix=pd.concat([Stock, Days_2023])\n",
    "StockMix=StockMix.reset_index()\n",
    "\n",
    "StockMix"
   ]
  },
  {
   "cell_type": "code",
   "execution_count": 47,
   "id": "babb879b",
   "metadata": {},
   "outputs": [
    {
     "name": "stdout",
     "output_type": "stream",
     "text": [
      "1/1 [==============================] - 0s 23ms/step\n",
      "1/1 [==============================] - 0s 29ms/step\n",
      "1/1 [==============================] - 0s 23ms/step\n",
      "1/1 [==============================] - 0s 23ms/step\n"
     ]
    },
    {
     "name": "stderr",
     "output_type": "stream",
     "text": [
      "/var/folders/s5/4b25bvq14pqbm1qxsg0hhlr40000gn/T/ipykernel_1596/1875232398.py:18: SettingWithCopyWarning: \n",
      "A value is trying to be set on a copy of a slice from a DataFrame\n",
      "\n",
      "See the caveats in the documentation: https://pandas.pydata.org/pandas-docs/stable/user_guide/indexing.html#returning-a-view-versus-a-copy\n",
      "  StockMix.Close.iloc[(len(Stock)+i)]=pred_price\n",
      "/var/folders/s5/4b25bvq14pqbm1qxsg0hhlr40000gn/T/ipykernel_1596/1875232398.py:18: SettingWithCopyWarning: \n",
      "A value is trying to be set on a copy of a slice from a DataFrame\n",
      "\n",
      "See the caveats in the documentation: https://pandas.pydata.org/pandas-docs/stable/user_guide/indexing.html#returning-a-view-versus-a-copy\n",
      "  StockMix.Close.iloc[(len(Stock)+i)]=pred_price\n",
      "/var/folders/s5/4b25bvq14pqbm1qxsg0hhlr40000gn/T/ipykernel_1596/1875232398.py:18: SettingWithCopyWarning: \n",
      "A value is trying to be set on a copy of a slice from a DataFrame\n",
      "\n",
      "See the caveats in the documentation: https://pandas.pydata.org/pandas-docs/stable/user_guide/indexing.html#returning-a-view-versus-a-copy\n",
      "  StockMix.Close.iloc[(len(Stock)+i)]=pred_price\n",
      "/var/folders/s5/4b25bvq14pqbm1qxsg0hhlr40000gn/T/ipykernel_1596/1875232398.py:18: SettingWithCopyWarning: \n",
      "A value is trying to be set on a copy of a slice from a DataFrame\n",
      "\n",
      "See the caveats in the documentation: https://pandas.pydata.org/pandas-docs/stable/user_guide/indexing.html#returning-a-view-versus-a-copy\n",
      "  StockMix.Close.iloc[(len(Stock)+i)]=pred_price\n"
     ]
    },
    {
     "name": "stdout",
     "output_type": "stream",
     "text": [
      "1/1 [==============================] - 0s 23ms/step\n",
      "1/1 [==============================] - 0s 23ms/step\n",
      "1/1 [==============================] - 0s 23ms/step\n",
      "1/1 [==============================] - 0s 23ms/step\n"
     ]
    },
    {
     "name": "stderr",
     "output_type": "stream",
     "text": [
      "/var/folders/s5/4b25bvq14pqbm1qxsg0hhlr40000gn/T/ipykernel_1596/1875232398.py:18: SettingWithCopyWarning: \n",
      "A value is trying to be set on a copy of a slice from a DataFrame\n",
      "\n",
      "See the caveats in the documentation: https://pandas.pydata.org/pandas-docs/stable/user_guide/indexing.html#returning-a-view-versus-a-copy\n",
      "  StockMix.Close.iloc[(len(Stock)+i)]=pred_price\n",
      "/var/folders/s5/4b25bvq14pqbm1qxsg0hhlr40000gn/T/ipykernel_1596/1875232398.py:18: SettingWithCopyWarning: \n",
      "A value is trying to be set on a copy of a slice from a DataFrame\n",
      "\n",
      "See the caveats in the documentation: https://pandas.pydata.org/pandas-docs/stable/user_guide/indexing.html#returning-a-view-versus-a-copy\n",
      "  StockMix.Close.iloc[(len(Stock)+i)]=pred_price\n",
      "/var/folders/s5/4b25bvq14pqbm1qxsg0hhlr40000gn/T/ipykernel_1596/1875232398.py:18: SettingWithCopyWarning: \n",
      "A value is trying to be set on a copy of a slice from a DataFrame\n",
      "\n",
      "See the caveats in the documentation: https://pandas.pydata.org/pandas-docs/stable/user_guide/indexing.html#returning-a-view-versus-a-copy\n",
      "  StockMix.Close.iloc[(len(Stock)+i)]=pred_price\n",
      "/var/folders/s5/4b25bvq14pqbm1qxsg0hhlr40000gn/T/ipykernel_1596/1875232398.py:18: SettingWithCopyWarning: \n",
      "A value is trying to be set on a copy of a slice from a DataFrame\n",
      "\n",
      "See the caveats in the documentation: https://pandas.pydata.org/pandas-docs/stable/user_guide/indexing.html#returning-a-view-versus-a-copy\n",
      "  StockMix.Close.iloc[(len(Stock)+i)]=pred_price\n"
     ]
    },
    {
     "name": "stdout",
     "output_type": "stream",
     "text": [
      "1/1 [==============================] - 0s 24ms/step\n",
      "1/1 [==============================] - 0s 24ms/step\n",
      "1/1 [==============================] - 0s 23ms/step\n",
      "1/1 [==============================] - 0s 22ms/step\n"
     ]
    },
    {
     "name": "stderr",
     "output_type": "stream",
     "text": [
      "/var/folders/s5/4b25bvq14pqbm1qxsg0hhlr40000gn/T/ipykernel_1596/1875232398.py:18: SettingWithCopyWarning: \n",
      "A value is trying to be set on a copy of a slice from a DataFrame\n",
      "\n",
      "See the caveats in the documentation: https://pandas.pydata.org/pandas-docs/stable/user_guide/indexing.html#returning-a-view-versus-a-copy\n",
      "  StockMix.Close.iloc[(len(Stock)+i)]=pred_price\n",
      "/var/folders/s5/4b25bvq14pqbm1qxsg0hhlr40000gn/T/ipykernel_1596/1875232398.py:18: SettingWithCopyWarning: \n",
      "A value is trying to be set on a copy of a slice from a DataFrame\n",
      "\n",
      "See the caveats in the documentation: https://pandas.pydata.org/pandas-docs/stable/user_guide/indexing.html#returning-a-view-versus-a-copy\n",
      "  StockMix.Close.iloc[(len(Stock)+i)]=pred_price\n",
      "/var/folders/s5/4b25bvq14pqbm1qxsg0hhlr40000gn/T/ipykernel_1596/1875232398.py:18: SettingWithCopyWarning: \n",
      "A value is trying to be set on a copy of a slice from a DataFrame\n",
      "\n",
      "See the caveats in the documentation: https://pandas.pydata.org/pandas-docs/stable/user_guide/indexing.html#returning-a-view-versus-a-copy\n",
      "  StockMix.Close.iloc[(len(Stock)+i)]=pred_price\n",
      "/var/folders/s5/4b25bvq14pqbm1qxsg0hhlr40000gn/T/ipykernel_1596/1875232398.py:18: SettingWithCopyWarning: \n",
      "A value is trying to be set on a copy of a slice from a DataFrame\n",
      "\n",
      "See the caveats in the documentation: https://pandas.pydata.org/pandas-docs/stable/user_guide/indexing.html#returning-a-view-versus-a-copy\n",
      "  StockMix.Close.iloc[(len(Stock)+i)]=pred_price\n"
     ]
    },
    {
     "name": "stdout",
     "output_type": "stream",
     "text": [
      "1/1 [==============================] - 0s 25ms/step\n",
      "1/1 [==============================] - 0s 22ms/step\n",
      "1/1 [==============================] - 0s 22ms/step\n",
      "1/1 [==============================] - 0s 22ms/step\n"
     ]
    },
    {
     "name": "stderr",
     "output_type": "stream",
     "text": [
      "/var/folders/s5/4b25bvq14pqbm1qxsg0hhlr40000gn/T/ipykernel_1596/1875232398.py:18: SettingWithCopyWarning: \n",
      "A value is trying to be set on a copy of a slice from a DataFrame\n",
      "\n",
      "See the caveats in the documentation: https://pandas.pydata.org/pandas-docs/stable/user_guide/indexing.html#returning-a-view-versus-a-copy\n",
      "  StockMix.Close.iloc[(len(Stock)+i)]=pred_price\n",
      "/var/folders/s5/4b25bvq14pqbm1qxsg0hhlr40000gn/T/ipykernel_1596/1875232398.py:18: SettingWithCopyWarning: \n",
      "A value is trying to be set on a copy of a slice from a DataFrame\n",
      "\n",
      "See the caveats in the documentation: https://pandas.pydata.org/pandas-docs/stable/user_guide/indexing.html#returning-a-view-versus-a-copy\n",
      "  StockMix.Close.iloc[(len(Stock)+i)]=pred_price\n",
      "/var/folders/s5/4b25bvq14pqbm1qxsg0hhlr40000gn/T/ipykernel_1596/1875232398.py:18: SettingWithCopyWarning: \n",
      "A value is trying to be set on a copy of a slice from a DataFrame\n",
      "\n",
      "See the caveats in the documentation: https://pandas.pydata.org/pandas-docs/stable/user_guide/indexing.html#returning-a-view-versus-a-copy\n",
      "  StockMix.Close.iloc[(len(Stock)+i)]=pred_price\n",
      "/var/folders/s5/4b25bvq14pqbm1qxsg0hhlr40000gn/T/ipykernel_1596/1875232398.py:18: SettingWithCopyWarning: \n",
      "A value is trying to be set on a copy of a slice from a DataFrame\n",
      "\n",
      "See the caveats in the documentation: https://pandas.pydata.org/pandas-docs/stable/user_guide/indexing.html#returning-a-view-versus-a-copy\n",
      "  StockMix.Close.iloc[(len(Stock)+i)]=pred_price\n"
     ]
    },
    {
     "name": "stdout",
     "output_type": "stream",
     "text": [
      "1/1 [==============================] - 0s 24ms/step\n",
      "1/1 [==============================] - 0s 26ms/step\n",
      "1/1 [==============================] - 0s 32ms/step\n"
     ]
    },
    {
     "name": "stderr",
     "output_type": "stream",
     "text": [
      "/var/folders/s5/4b25bvq14pqbm1qxsg0hhlr40000gn/T/ipykernel_1596/1875232398.py:18: SettingWithCopyWarning: \n",
      "A value is trying to be set on a copy of a slice from a DataFrame\n",
      "\n",
      "See the caveats in the documentation: https://pandas.pydata.org/pandas-docs/stable/user_guide/indexing.html#returning-a-view-versus-a-copy\n",
      "  StockMix.Close.iloc[(len(Stock)+i)]=pred_price\n",
      "/var/folders/s5/4b25bvq14pqbm1qxsg0hhlr40000gn/T/ipykernel_1596/1875232398.py:18: SettingWithCopyWarning: \n",
      "A value is trying to be set on a copy of a slice from a DataFrame\n",
      "\n",
      "See the caveats in the documentation: https://pandas.pydata.org/pandas-docs/stable/user_guide/indexing.html#returning-a-view-versus-a-copy\n",
      "  StockMix.Close.iloc[(len(Stock)+i)]=pred_price\n",
      "/var/folders/s5/4b25bvq14pqbm1qxsg0hhlr40000gn/T/ipykernel_1596/1875232398.py:18: SettingWithCopyWarning: \n",
      "A value is trying to be set on a copy of a slice from a DataFrame\n",
      "\n",
      "See the caveats in the documentation: https://pandas.pydata.org/pandas-docs/stable/user_guide/indexing.html#returning-a-view-versus-a-copy\n",
      "  StockMix.Close.iloc[(len(Stock)+i)]=pred_price\n"
     ]
    },
    {
     "name": "stdout",
     "output_type": "stream",
     "text": [
      "1/1 [==============================] - 0s 27ms/step\n",
      "1/1 [==============================] - 0s 21ms/step\n",
      "1/1 [==============================] - 0s 22ms/step\n",
      "1/1 [==============================] - 0s 24ms/step\n"
     ]
    },
    {
     "name": "stderr",
     "output_type": "stream",
     "text": [
      "/var/folders/s5/4b25bvq14pqbm1qxsg0hhlr40000gn/T/ipykernel_1596/1875232398.py:18: SettingWithCopyWarning: \n",
      "A value is trying to be set on a copy of a slice from a DataFrame\n",
      "\n",
      "See the caveats in the documentation: https://pandas.pydata.org/pandas-docs/stable/user_guide/indexing.html#returning-a-view-versus-a-copy\n",
      "  StockMix.Close.iloc[(len(Stock)+i)]=pred_price\n",
      "/var/folders/s5/4b25bvq14pqbm1qxsg0hhlr40000gn/T/ipykernel_1596/1875232398.py:18: SettingWithCopyWarning: \n",
      "A value is trying to be set on a copy of a slice from a DataFrame\n",
      "\n",
      "See the caveats in the documentation: https://pandas.pydata.org/pandas-docs/stable/user_guide/indexing.html#returning-a-view-versus-a-copy\n",
      "  StockMix.Close.iloc[(len(Stock)+i)]=pred_price\n",
      "/var/folders/s5/4b25bvq14pqbm1qxsg0hhlr40000gn/T/ipykernel_1596/1875232398.py:18: SettingWithCopyWarning: \n",
      "A value is trying to be set on a copy of a slice from a DataFrame\n",
      "\n",
      "See the caveats in the documentation: https://pandas.pydata.org/pandas-docs/stable/user_guide/indexing.html#returning-a-view-versus-a-copy\n",
      "  StockMix.Close.iloc[(len(Stock)+i)]=pred_price\n",
      "/var/folders/s5/4b25bvq14pqbm1qxsg0hhlr40000gn/T/ipykernel_1596/1875232398.py:18: SettingWithCopyWarning: \n",
      "A value is trying to be set on a copy of a slice from a DataFrame\n",
      "\n",
      "See the caveats in the documentation: https://pandas.pydata.org/pandas-docs/stable/user_guide/indexing.html#returning-a-view-versus-a-copy\n",
      "  StockMix.Close.iloc[(len(Stock)+i)]=pred_price\n"
     ]
    },
    {
     "name": "stdout",
     "output_type": "stream",
     "text": [
      "1/1 [==============================] - 0s 24ms/step\n",
      "1/1 [==============================] - 0s 23ms/step\n",
      "1/1 [==============================] - 0s 25ms/step\n",
      "1/1 [==============================] - 0s 24ms/step\n"
     ]
    },
    {
     "name": "stderr",
     "output_type": "stream",
     "text": [
      "/var/folders/s5/4b25bvq14pqbm1qxsg0hhlr40000gn/T/ipykernel_1596/1875232398.py:18: SettingWithCopyWarning: \n",
      "A value is trying to be set on a copy of a slice from a DataFrame\n",
      "\n",
      "See the caveats in the documentation: https://pandas.pydata.org/pandas-docs/stable/user_guide/indexing.html#returning-a-view-versus-a-copy\n",
      "  StockMix.Close.iloc[(len(Stock)+i)]=pred_price\n",
      "/var/folders/s5/4b25bvq14pqbm1qxsg0hhlr40000gn/T/ipykernel_1596/1875232398.py:18: SettingWithCopyWarning: \n",
      "A value is trying to be set on a copy of a slice from a DataFrame\n",
      "\n",
      "See the caveats in the documentation: https://pandas.pydata.org/pandas-docs/stable/user_guide/indexing.html#returning-a-view-versus-a-copy\n",
      "  StockMix.Close.iloc[(len(Stock)+i)]=pred_price\n",
      "/var/folders/s5/4b25bvq14pqbm1qxsg0hhlr40000gn/T/ipykernel_1596/1875232398.py:18: SettingWithCopyWarning: \n",
      "A value is trying to be set on a copy of a slice from a DataFrame\n",
      "\n",
      "See the caveats in the documentation: https://pandas.pydata.org/pandas-docs/stable/user_guide/indexing.html#returning-a-view-versus-a-copy\n",
      "  StockMix.Close.iloc[(len(Stock)+i)]=pred_price\n",
      "/var/folders/s5/4b25bvq14pqbm1qxsg0hhlr40000gn/T/ipykernel_1596/1875232398.py:18: SettingWithCopyWarning: \n",
      "A value is trying to be set on a copy of a slice from a DataFrame\n",
      "\n",
      "See the caveats in the documentation: https://pandas.pydata.org/pandas-docs/stable/user_guide/indexing.html#returning-a-view-versus-a-copy\n",
      "  StockMix.Close.iloc[(len(Stock)+i)]=pred_price\n"
     ]
    },
    {
     "name": "stdout",
     "output_type": "stream",
     "text": [
      "1/1 [==============================] - 0s 25ms/step\n",
      "1/1 [==============================] - 0s 23ms/step\n",
      "1/1 [==============================] - 0s 24ms/step\n",
      "1/1 [==============================] - 0s 24ms/step\n"
     ]
    },
    {
     "name": "stderr",
     "output_type": "stream",
     "text": [
      "/var/folders/s5/4b25bvq14pqbm1qxsg0hhlr40000gn/T/ipykernel_1596/1875232398.py:18: SettingWithCopyWarning: \n",
      "A value is trying to be set on a copy of a slice from a DataFrame\n",
      "\n",
      "See the caveats in the documentation: https://pandas.pydata.org/pandas-docs/stable/user_guide/indexing.html#returning-a-view-versus-a-copy\n",
      "  StockMix.Close.iloc[(len(Stock)+i)]=pred_price\n",
      "/var/folders/s5/4b25bvq14pqbm1qxsg0hhlr40000gn/T/ipykernel_1596/1875232398.py:18: SettingWithCopyWarning: \n",
      "A value is trying to be set on a copy of a slice from a DataFrame\n",
      "\n",
      "See the caveats in the documentation: https://pandas.pydata.org/pandas-docs/stable/user_guide/indexing.html#returning-a-view-versus-a-copy\n",
      "  StockMix.Close.iloc[(len(Stock)+i)]=pred_price\n",
      "/var/folders/s5/4b25bvq14pqbm1qxsg0hhlr40000gn/T/ipykernel_1596/1875232398.py:18: SettingWithCopyWarning: \n",
      "A value is trying to be set on a copy of a slice from a DataFrame\n",
      "\n",
      "See the caveats in the documentation: https://pandas.pydata.org/pandas-docs/stable/user_guide/indexing.html#returning-a-view-versus-a-copy\n",
      "  StockMix.Close.iloc[(len(Stock)+i)]=pred_price\n",
      "/var/folders/s5/4b25bvq14pqbm1qxsg0hhlr40000gn/T/ipykernel_1596/1875232398.py:18: SettingWithCopyWarning: \n",
      "A value is trying to be set on a copy of a slice from a DataFrame\n",
      "\n",
      "See the caveats in the documentation: https://pandas.pydata.org/pandas-docs/stable/user_guide/indexing.html#returning-a-view-versus-a-copy\n",
      "  StockMix.Close.iloc[(len(Stock)+i)]=pred_price\n"
     ]
    },
    {
     "name": "stdout",
     "output_type": "stream",
     "text": [
      "1/1 [==============================] - 0s 26ms/step\n",
      "1/1 [==============================] - 0s 23ms/step\n",
      "1/1 [==============================] - 0s 24ms/step\n",
      "1/1 [==============================] - 0s 25ms/step\n"
     ]
    },
    {
     "name": "stderr",
     "output_type": "stream",
     "text": [
      "/var/folders/s5/4b25bvq14pqbm1qxsg0hhlr40000gn/T/ipykernel_1596/1875232398.py:18: SettingWithCopyWarning: \n",
      "A value is trying to be set on a copy of a slice from a DataFrame\n",
      "\n",
      "See the caveats in the documentation: https://pandas.pydata.org/pandas-docs/stable/user_guide/indexing.html#returning-a-view-versus-a-copy\n",
      "  StockMix.Close.iloc[(len(Stock)+i)]=pred_price\n",
      "/var/folders/s5/4b25bvq14pqbm1qxsg0hhlr40000gn/T/ipykernel_1596/1875232398.py:18: SettingWithCopyWarning: \n",
      "A value is trying to be set on a copy of a slice from a DataFrame\n",
      "\n",
      "See the caveats in the documentation: https://pandas.pydata.org/pandas-docs/stable/user_guide/indexing.html#returning-a-view-versus-a-copy\n",
      "  StockMix.Close.iloc[(len(Stock)+i)]=pred_price\n",
      "/var/folders/s5/4b25bvq14pqbm1qxsg0hhlr40000gn/T/ipykernel_1596/1875232398.py:18: SettingWithCopyWarning: \n",
      "A value is trying to be set on a copy of a slice from a DataFrame\n",
      "\n",
      "See the caveats in the documentation: https://pandas.pydata.org/pandas-docs/stable/user_guide/indexing.html#returning-a-view-versus-a-copy\n",
      "  StockMix.Close.iloc[(len(Stock)+i)]=pred_price\n",
      "/var/folders/s5/4b25bvq14pqbm1qxsg0hhlr40000gn/T/ipykernel_1596/1875232398.py:18: SettingWithCopyWarning: \n",
      "A value is trying to be set on a copy of a slice from a DataFrame\n",
      "\n",
      "See the caveats in the documentation: https://pandas.pydata.org/pandas-docs/stable/user_guide/indexing.html#returning-a-view-versus-a-copy\n",
      "  StockMix.Close.iloc[(len(Stock)+i)]=pred_price\n"
     ]
    },
    {
     "name": "stdout",
     "output_type": "stream",
     "text": [
      "1/1 [==============================] - 0s 29ms/step\n",
      "1/1 [==============================] - 0s 23ms/step\n",
      "1/1 [==============================] - 0s 24ms/step\n",
      "1/1 [==============================] - 0s 25ms/step\n"
     ]
    },
    {
     "name": "stderr",
     "output_type": "stream",
     "text": [
      "/var/folders/s5/4b25bvq14pqbm1qxsg0hhlr40000gn/T/ipykernel_1596/1875232398.py:18: SettingWithCopyWarning: \n",
      "A value is trying to be set on a copy of a slice from a DataFrame\n",
      "\n",
      "See the caveats in the documentation: https://pandas.pydata.org/pandas-docs/stable/user_guide/indexing.html#returning-a-view-versus-a-copy\n",
      "  StockMix.Close.iloc[(len(Stock)+i)]=pred_price\n",
      "/var/folders/s5/4b25bvq14pqbm1qxsg0hhlr40000gn/T/ipykernel_1596/1875232398.py:18: SettingWithCopyWarning: \n",
      "A value is trying to be set on a copy of a slice from a DataFrame\n",
      "\n",
      "See the caveats in the documentation: https://pandas.pydata.org/pandas-docs/stable/user_guide/indexing.html#returning-a-view-versus-a-copy\n",
      "  StockMix.Close.iloc[(len(Stock)+i)]=pred_price\n",
      "/var/folders/s5/4b25bvq14pqbm1qxsg0hhlr40000gn/T/ipykernel_1596/1875232398.py:18: SettingWithCopyWarning: \n",
      "A value is trying to be set on a copy of a slice from a DataFrame\n",
      "\n",
      "See the caveats in the documentation: https://pandas.pydata.org/pandas-docs/stable/user_guide/indexing.html#returning-a-view-versus-a-copy\n",
      "  StockMix.Close.iloc[(len(Stock)+i)]=pred_price\n",
      "/var/folders/s5/4b25bvq14pqbm1qxsg0hhlr40000gn/T/ipykernel_1596/1875232398.py:18: SettingWithCopyWarning: \n",
      "A value is trying to be set on a copy of a slice from a DataFrame\n",
      "\n",
      "See the caveats in the documentation: https://pandas.pydata.org/pandas-docs/stable/user_guide/indexing.html#returning-a-view-versus-a-copy\n",
      "  StockMix.Close.iloc[(len(Stock)+i)]=pred_price\n"
     ]
    },
    {
     "name": "stdout",
     "output_type": "stream",
     "text": [
      "1/1 [==============================] - 0s 25ms/step\n",
      "1/1 [==============================] - 0s 25ms/step\n",
      "1/1 [==============================] - 0s 28ms/step\n",
      "1/1 [==============================] - 0s 25ms/step\n"
     ]
    },
    {
     "name": "stderr",
     "output_type": "stream",
     "text": [
      "/var/folders/s5/4b25bvq14pqbm1qxsg0hhlr40000gn/T/ipykernel_1596/1875232398.py:18: SettingWithCopyWarning: \n",
      "A value is trying to be set on a copy of a slice from a DataFrame\n",
      "\n",
      "See the caveats in the documentation: https://pandas.pydata.org/pandas-docs/stable/user_guide/indexing.html#returning-a-view-versus-a-copy\n",
      "  StockMix.Close.iloc[(len(Stock)+i)]=pred_price\n",
      "/var/folders/s5/4b25bvq14pqbm1qxsg0hhlr40000gn/T/ipykernel_1596/1875232398.py:18: SettingWithCopyWarning: \n",
      "A value is trying to be set on a copy of a slice from a DataFrame\n",
      "\n",
      "See the caveats in the documentation: https://pandas.pydata.org/pandas-docs/stable/user_guide/indexing.html#returning-a-view-versus-a-copy\n",
      "  StockMix.Close.iloc[(len(Stock)+i)]=pred_price\n",
      "/var/folders/s5/4b25bvq14pqbm1qxsg0hhlr40000gn/T/ipykernel_1596/1875232398.py:18: SettingWithCopyWarning: \n",
      "A value is trying to be set on a copy of a slice from a DataFrame\n",
      "\n",
      "See the caveats in the documentation: https://pandas.pydata.org/pandas-docs/stable/user_guide/indexing.html#returning-a-view-versus-a-copy\n",
      "  StockMix.Close.iloc[(len(Stock)+i)]=pred_price\n",
      "/var/folders/s5/4b25bvq14pqbm1qxsg0hhlr40000gn/T/ipykernel_1596/1875232398.py:18: SettingWithCopyWarning: \n",
      "A value is trying to be set on a copy of a slice from a DataFrame\n",
      "\n",
      "See the caveats in the documentation: https://pandas.pydata.org/pandas-docs/stable/user_guide/indexing.html#returning-a-view-versus-a-copy\n",
      "  StockMix.Close.iloc[(len(Stock)+i)]=pred_price\n"
     ]
    },
    {
     "name": "stdout",
     "output_type": "stream",
     "text": [
      "1/1 [==============================] - 0s 24ms/step\n",
      "1/1 [==============================] - 0s 25ms/step\n",
      "1/1 [==============================] - 0s 24ms/step\n",
      "1/1 [==============================] - 0s 24ms/step\n"
     ]
    },
    {
     "name": "stderr",
     "output_type": "stream",
     "text": [
      "/var/folders/s5/4b25bvq14pqbm1qxsg0hhlr40000gn/T/ipykernel_1596/1875232398.py:18: SettingWithCopyWarning: \n",
      "A value is trying to be set on a copy of a slice from a DataFrame\n",
      "\n",
      "See the caveats in the documentation: https://pandas.pydata.org/pandas-docs/stable/user_guide/indexing.html#returning-a-view-versus-a-copy\n",
      "  StockMix.Close.iloc[(len(Stock)+i)]=pred_price\n",
      "/var/folders/s5/4b25bvq14pqbm1qxsg0hhlr40000gn/T/ipykernel_1596/1875232398.py:18: SettingWithCopyWarning: \n",
      "A value is trying to be set on a copy of a slice from a DataFrame\n",
      "\n",
      "See the caveats in the documentation: https://pandas.pydata.org/pandas-docs/stable/user_guide/indexing.html#returning-a-view-versus-a-copy\n",
      "  StockMix.Close.iloc[(len(Stock)+i)]=pred_price\n",
      "/var/folders/s5/4b25bvq14pqbm1qxsg0hhlr40000gn/T/ipykernel_1596/1875232398.py:18: SettingWithCopyWarning: \n",
      "A value is trying to be set on a copy of a slice from a DataFrame\n",
      "\n",
      "See the caveats in the documentation: https://pandas.pydata.org/pandas-docs/stable/user_guide/indexing.html#returning-a-view-versus-a-copy\n",
      "  StockMix.Close.iloc[(len(Stock)+i)]=pred_price\n",
      "/var/folders/s5/4b25bvq14pqbm1qxsg0hhlr40000gn/T/ipykernel_1596/1875232398.py:18: SettingWithCopyWarning: \n",
      "A value is trying to be set on a copy of a slice from a DataFrame\n",
      "\n",
      "See the caveats in the documentation: https://pandas.pydata.org/pandas-docs/stable/user_guide/indexing.html#returning-a-view-versus-a-copy\n",
      "  StockMix.Close.iloc[(len(Stock)+i)]=pred_price\n"
     ]
    },
    {
     "name": "stdout",
     "output_type": "stream",
     "text": [
      "1/1 [==============================] - 0s 24ms/step\n",
      "1/1 [==============================] - 0s 24ms/step\n",
      "1/1 [==============================] - 0s 25ms/step\n",
      "1/1 [==============================] - 0s 22ms/step\n"
     ]
    },
    {
     "name": "stderr",
     "output_type": "stream",
     "text": [
      "/var/folders/s5/4b25bvq14pqbm1qxsg0hhlr40000gn/T/ipykernel_1596/1875232398.py:18: SettingWithCopyWarning: \n",
      "A value is trying to be set on a copy of a slice from a DataFrame\n",
      "\n",
      "See the caveats in the documentation: https://pandas.pydata.org/pandas-docs/stable/user_guide/indexing.html#returning-a-view-versus-a-copy\n",
      "  StockMix.Close.iloc[(len(Stock)+i)]=pred_price\n",
      "/var/folders/s5/4b25bvq14pqbm1qxsg0hhlr40000gn/T/ipykernel_1596/1875232398.py:18: SettingWithCopyWarning: \n",
      "A value is trying to be set on a copy of a slice from a DataFrame\n",
      "\n",
      "See the caveats in the documentation: https://pandas.pydata.org/pandas-docs/stable/user_guide/indexing.html#returning-a-view-versus-a-copy\n",
      "  StockMix.Close.iloc[(len(Stock)+i)]=pred_price\n",
      "/var/folders/s5/4b25bvq14pqbm1qxsg0hhlr40000gn/T/ipykernel_1596/1875232398.py:18: SettingWithCopyWarning: \n",
      "A value is trying to be set on a copy of a slice from a DataFrame\n",
      "\n",
      "See the caveats in the documentation: https://pandas.pydata.org/pandas-docs/stable/user_guide/indexing.html#returning-a-view-versus-a-copy\n",
      "  StockMix.Close.iloc[(len(Stock)+i)]=pred_price\n",
      "/var/folders/s5/4b25bvq14pqbm1qxsg0hhlr40000gn/T/ipykernel_1596/1875232398.py:18: SettingWithCopyWarning: \n",
      "A value is trying to be set on a copy of a slice from a DataFrame\n",
      "\n",
      "See the caveats in the documentation: https://pandas.pydata.org/pandas-docs/stable/user_guide/indexing.html#returning-a-view-versus-a-copy\n",
      "  StockMix.Close.iloc[(len(Stock)+i)]=pred_price\n"
     ]
    },
    {
     "name": "stdout",
     "output_type": "stream",
     "text": [
      "1/1 [==============================] - 0s 24ms/step\n",
      "1/1 [==============================] - 0s 22ms/step\n",
      "1/1 [==============================] - 0s 25ms/step\n",
      "1/1 [==============================] - 0s 25ms/step\n"
     ]
    },
    {
     "name": "stderr",
     "output_type": "stream",
     "text": [
      "/var/folders/s5/4b25bvq14pqbm1qxsg0hhlr40000gn/T/ipykernel_1596/1875232398.py:18: SettingWithCopyWarning: \n",
      "A value is trying to be set on a copy of a slice from a DataFrame\n",
      "\n",
      "See the caveats in the documentation: https://pandas.pydata.org/pandas-docs/stable/user_guide/indexing.html#returning-a-view-versus-a-copy\n",
      "  StockMix.Close.iloc[(len(Stock)+i)]=pred_price\n",
      "/var/folders/s5/4b25bvq14pqbm1qxsg0hhlr40000gn/T/ipykernel_1596/1875232398.py:18: SettingWithCopyWarning: \n",
      "A value is trying to be set on a copy of a slice from a DataFrame\n",
      "\n",
      "See the caveats in the documentation: https://pandas.pydata.org/pandas-docs/stable/user_guide/indexing.html#returning-a-view-versus-a-copy\n",
      "  StockMix.Close.iloc[(len(Stock)+i)]=pred_price\n",
      "/var/folders/s5/4b25bvq14pqbm1qxsg0hhlr40000gn/T/ipykernel_1596/1875232398.py:18: SettingWithCopyWarning: \n",
      "A value is trying to be set on a copy of a slice from a DataFrame\n",
      "\n",
      "See the caveats in the documentation: https://pandas.pydata.org/pandas-docs/stable/user_guide/indexing.html#returning-a-view-versus-a-copy\n",
      "  StockMix.Close.iloc[(len(Stock)+i)]=pred_price\n",
      "/var/folders/s5/4b25bvq14pqbm1qxsg0hhlr40000gn/T/ipykernel_1596/1875232398.py:18: SettingWithCopyWarning: \n",
      "A value is trying to be set on a copy of a slice from a DataFrame\n",
      "\n",
      "See the caveats in the documentation: https://pandas.pydata.org/pandas-docs/stable/user_guide/indexing.html#returning-a-view-versus-a-copy\n",
      "  StockMix.Close.iloc[(len(Stock)+i)]=pred_price\n"
     ]
    },
    {
     "name": "stdout",
     "output_type": "stream",
     "text": [
      "1/1 [==============================] - 0s 25ms/step\n",
      "1/1 [==============================] - 0s 23ms/step\n",
      "1/1 [==============================] - 0s 22ms/step\n",
      "1/1 [==============================] - 0s 22ms/step\n"
     ]
    },
    {
     "name": "stderr",
     "output_type": "stream",
     "text": [
      "/var/folders/s5/4b25bvq14pqbm1qxsg0hhlr40000gn/T/ipykernel_1596/1875232398.py:18: SettingWithCopyWarning: \n",
      "A value is trying to be set on a copy of a slice from a DataFrame\n",
      "\n",
      "See the caveats in the documentation: https://pandas.pydata.org/pandas-docs/stable/user_guide/indexing.html#returning-a-view-versus-a-copy\n",
      "  StockMix.Close.iloc[(len(Stock)+i)]=pred_price\n",
      "/var/folders/s5/4b25bvq14pqbm1qxsg0hhlr40000gn/T/ipykernel_1596/1875232398.py:18: SettingWithCopyWarning: \n",
      "A value is trying to be set on a copy of a slice from a DataFrame\n",
      "\n",
      "See the caveats in the documentation: https://pandas.pydata.org/pandas-docs/stable/user_guide/indexing.html#returning-a-view-versus-a-copy\n",
      "  StockMix.Close.iloc[(len(Stock)+i)]=pred_price\n",
      "/var/folders/s5/4b25bvq14pqbm1qxsg0hhlr40000gn/T/ipykernel_1596/1875232398.py:18: SettingWithCopyWarning: \n",
      "A value is trying to be set on a copy of a slice from a DataFrame\n",
      "\n",
      "See the caveats in the documentation: https://pandas.pydata.org/pandas-docs/stable/user_guide/indexing.html#returning-a-view-versus-a-copy\n",
      "  StockMix.Close.iloc[(len(Stock)+i)]=pred_price\n",
      "/var/folders/s5/4b25bvq14pqbm1qxsg0hhlr40000gn/T/ipykernel_1596/1875232398.py:18: SettingWithCopyWarning: \n",
      "A value is trying to be set on a copy of a slice from a DataFrame\n",
      "\n",
      "See the caveats in the documentation: https://pandas.pydata.org/pandas-docs/stable/user_guide/indexing.html#returning-a-view-versus-a-copy\n",
      "  StockMix.Close.iloc[(len(Stock)+i)]=pred_price\n"
     ]
    },
    {
     "name": "stdout",
     "output_type": "stream",
     "text": [
      "1/1 [==============================] - 0s 24ms/step\n",
      "1/1 [==============================] - 0s 22ms/step\n",
      "1/1 [==============================] - 0s 22ms/step\n",
      "1/1 [==============================] - 0s 22ms/step\n"
     ]
    },
    {
     "name": "stderr",
     "output_type": "stream",
     "text": [
      "/var/folders/s5/4b25bvq14pqbm1qxsg0hhlr40000gn/T/ipykernel_1596/1875232398.py:18: SettingWithCopyWarning: \n",
      "A value is trying to be set on a copy of a slice from a DataFrame\n",
      "\n",
      "See the caveats in the documentation: https://pandas.pydata.org/pandas-docs/stable/user_guide/indexing.html#returning-a-view-versus-a-copy\n",
      "  StockMix.Close.iloc[(len(Stock)+i)]=pred_price\n",
      "/var/folders/s5/4b25bvq14pqbm1qxsg0hhlr40000gn/T/ipykernel_1596/1875232398.py:18: SettingWithCopyWarning: \n",
      "A value is trying to be set on a copy of a slice from a DataFrame\n",
      "\n",
      "See the caveats in the documentation: https://pandas.pydata.org/pandas-docs/stable/user_guide/indexing.html#returning-a-view-versus-a-copy\n",
      "  StockMix.Close.iloc[(len(Stock)+i)]=pred_price\n",
      "/var/folders/s5/4b25bvq14pqbm1qxsg0hhlr40000gn/T/ipykernel_1596/1875232398.py:18: SettingWithCopyWarning: \n",
      "A value is trying to be set on a copy of a slice from a DataFrame\n",
      "\n",
      "See the caveats in the documentation: https://pandas.pydata.org/pandas-docs/stable/user_guide/indexing.html#returning-a-view-versus-a-copy\n",
      "  StockMix.Close.iloc[(len(Stock)+i)]=pred_price\n",
      "/var/folders/s5/4b25bvq14pqbm1qxsg0hhlr40000gn/T/ipykernel_1596/1875232398.py:18: SettingWithCopyWarning: \n",
      "A value is trying to be set on a copy of a slice from a DataFrame\n",
      "\n",
      "See the caveats in the documentation: https://pandas.pydata.org/pandas-docs/stable/user_guide/indexing.html#returning-a-view-versus-a-copy\n",
      "  StockMix.Close.iloc[(len(Stock)+i)]=pred_price\n"
     ]
    },
    {
     "name": "stdout",
     "output_type": "stream",
     "text": [
      "1/1 [==============================] - 0s 25ms/step\n",
      "1/1 [==============================] - 0s 27ms/step\n",
      "1/1 [==============================] - 0s 25ms/step\n",
      "1/1 [==============================] - 0s 24ms/step\n"
     ]
    },
    {
     "name": "stderr",
     "output_type": "stream",
     "text": [
      "/var/folders/s5/4b25bvq14pqbm1qxsg0hhlr40000gn/T/ipykernel_1596/1875232398.py:18: SettingWithCopyWarning: \n",
      "A value is trying to be set on a copy of a slice from a DataFrame\n",
      "\n",
      "See the caveats in the documentation: https://pandas.pydata.org/pandas-docs/stable/user_guide/indexing.html#returning-a-view-versus-a-copy\n",
      "  StockMix.Close.iloc[(len(Stock)+i)]=pred_price\n",
      "/var/folders/s5/4b25bvq14pqbm1qxsg0hhlr40000gn/T/ipykernel_1596/1875232398.py:18: SettingWithCopyWarning: \n",
      "A value is trying to be set on a copy of a slice from a DataFrame\n",
      "\n",
      "See the caveats in the documentation: https://pandas.pydata.org/pandas-docs/stable/user_guide/indexing.html#returning-a-view-versus-a-copy\n",
      "  StockMix.Close.iloc[(len(Stock)+i)]=pred_price\n",
      "/var/folders/s5/4b25bvq14pqbm1qxsg0hhlr40000gn/T/ipykernel_1596/1875232398.py:18: SettingWithCopyWarning: \n",
      "A value is trying to be set on a copy of a slice from a DataFrame\n",
      "\n",
      "See the caveats in the documentation: https://pandas.pydata.org/pandas-docs/stable/user_guide/indexing.html#returning-a-view-versus-a-copy\n",
      "  StockMix.Close.iloc[(len(Stock)+i)]=pred_price\n",
      "/var/folders/s5/4b25bvq14pqbm1qxsg0hhlr40000gn/T/ipykernel_1596/1875232398.py:18: SettingWithCopyWarning: \n",
      "A value is trying to be set on a copy of a slice from a DataFrame\n",
      "\n",
      "See the caveats in the documentation: https://pandas.pydata.org/pandas-docs/stable/user_guide/indexing.html#returning-a-view-versus-a-copy\n",
      "  StockMix.Close.iloc[(len(Stock)+i)]=pred_price\n"
     ]
    }
   ],
   "source": [
    "#Get the quote\n",
    "last_60_days = StockMix.dropna().filter(['Close'])[-60:].values\n",
    "\n",
    "for i in range(len(Days_2023)):\n",
    "    \n",
    "    last_60_days=last_60_days[-60: , ]\n",
    "    last_60_days_scaled = scaler.transform(last_60_days)\n",
    "\n",
    "    X_test = []\n",
    "    X_test.append(last_60_days_scaled)\n",
    "    X_test = np.array(X_test)\n",
    "    X_test = np.reshape(X_test, (X_test.shape[0], X_test.shape[1], 1))\n",
    "    \n",
    "    # the predicted scaled price\n",
    "    pred_price = model.predict(X_test)\n",
    "    pred_price = scaler.inverse_transform(pred_price)\n",
    "    \n",
    "    StockMix.Close.iloc[(len(Stock)+i)]=pred_price\n",
    "    last_60_days=np.append(last_60_days , pred_price)\n",
    "    last_60_days=last_60_days.reshape(-1, 1)\n",
    "    \n"
   ]
  },
  {
   "cell_type": "code",
   "execution_count": 48,
   "id": "5530ac3b",
   "metadata": {},
   "outputs": [
    {
     "data": {
      "text/html": [
       "<div>\n",
       "<style scoped>\n",
       "    .dataframe tbody tr th:only-of-type {\n",
       "        vertical-align: middle;\n",
       "    }\n",
       "\n",
       "    .dataframe tbody tr th {\n",
       "        vertical-align: top;\n",
       "    }\n",
       "\n",
       "    .dataframe thead th {\n",
       "        text-align: right;\n",
       "    }\n",
       "</style>\n",
       "<table border=\"1\" class=\"dataframe\">\n",
       "  <thead>\n",
       "    <tr style=\"text-align: right;\">\n",
       "      <th></th>\n",
       "      <th>Predictions</th>\n",
       "    </tr>\n",
       "    <tr>\n",
       "      <th>Date</th>\n",
       "      <th></th>\n",
       "    </tr>\n",
       "  </thead>\n",
       "  <tbody>\n",
       "    <tr>\n",
       "      <th>2022-11-26</th>\n",
       "      <td>3990.119141</td>\n",
       "    </tr>\n",
       "    <tr>\n",
       "      <th>2022-11-27</th>\n",
       "      <td>3997.709473</td>\n",
       "    </tr>\n",
       "    <tr>\n",
       "      <th>2022-11-28</th>\n",
       "      <td>4003.027344</td>\n",
       "    </tr>\n",
       "    <tr>\n",
       "      <th>2022-11-29</th>\n",
       "      <td>4006.990234</td>\n",
       "    </tr>\n",
       "    <tr>\n",
       "      <th>2022-11-30</th>\n",
       "      <td>4010.140869</td>\n",
       "    </tr>\n",
       "  </tbody>\n",
       "</table>\n",
       "</div>"
      ],
      "text/plain": [
       "            Predictions\n",
       "Date                   \n",
       "2022-11-26  3990.119141\n",
       "2022-11-27  3997.709473\n",
       "2022-11-28  4003.027344\n",
       "2022-11-29  4006.990234\n",
       "2022-11-30  4010.140869"
      ]
     },
     "execution_count": 48,
     "metadata": {},
     "output_type": "execute_result"
    }
   ],
   "source": [
    "NewPred=StockMix.iloc[(len(Stock)):,:][[\"Date\",\"Close\"]]\n",
    "NewPred=NewPred.set_index('Date')\n",
    "NewPred.columns = [\"Predictions\"]\n",
    "#Our prediction\n",
    "NewPred.head()"
   ]
  },
  {
   "cell_type": "markdown",
   "id": "14620cb8",
   "metadata": {},
   "source": [
    "So the only thing that could be reported in an academic report is the prediction of day 2022-11-26 which we have actual data for its prediction but the rest is just our idea to give a try to do the long-term prediction based on the predicted data"
   ]
  },
  {
   "cell_type": "code",
   "execution_count": 49,
   "id": "628a5e05",
   "metadata": {},
   "outputs": [
    {
     "name": "stderr",
     "output_type": "stream",
     "text": [
      "/var/folders/s5/4b25bvq14pqbm1qxsg0hhlr40000gn/T/ipykernel_1596/2233278607.py:2: SettingWithCopyWarning: \n",
      "A value is trying to be set on a copy of a slice from a DataFrame.\n",
      "Try using .loc[row_indexer,col_indexer] = value instead\n",
      "\n",
      "See the caveats in the documentation: https://pandas.pydata.org/pandas-docs/stable/user_guide/indexing.html#returning-a-view-versus-a-copy\n",
      "  valid['Predictions'] = predictions\n"
     ]
    },
    {
     "data": {
      "text/html": [
       "<div>\n",
       "<style scoped>\n",
       "    .dataframe tbody tr th:only-of-type {\n",
       "        vertical-align: middle;\n",
       "    }\n",
       "\n",
       "    .dataframe tbody tr th {\n",
       "        vertical-align: top;\n",
       "    }\n",
       "\n",
       "    .dataframe thead th {\n",
       "        text-align: right;\n",
       "    }\n",
       "</style>\n",
       "<table border=\"1\" class=\"dataframe\">\n",
       "  <thead>\n",
       "    <tr style=\"text-align: right;\">\n",
       "      <th></th>\n",
       "      <th>Close</th>\n",
       "      <th>Predictions</th>\n",
       "    </tr>\n",
       "    <tr>\n",
       "      <th>Date</th>\n",
       "      <th></th>\n",
       "      <th></th>\n",
       "    </tr>\n",
       "  </thead>\n",
       "  <tbody>\n",
       "    <tr>\n",
       "      <th>2020-11-25 00:00:00</th>\n",
       "      <td>3629.649902</td>\n",
       "      <td>3605.439453</td>\n",
       "    </tr>\n",
       "    <tr>\n",
       "      <th>2020-11-27 00:00:00</th>\n",
       "      <td>3638.350098</td>\n",
       "      <td>3612.741455</td>\n",
       "    </tr>\n",
       "    <tr>\n",
       "      <th>2020-11-30 00:00:00</th>\n",
       "      <td>3621.629883</td>\n",
       "      <td>3620.813965</td>\n",
       "    </tr>\n",
       "    <tr>\n",
       "      <th>2020-12-01 00:00:00</th>\n",
       "      <td>3662.449951</td>\n",
       "      <td>3627.020508</td>\n",
       "    </tr>\n",
       "    <tr>\n",
       "      <th>2020-12-02 00:00:00</th>\n",
       "      <td>3669.010010</td>\n",
       "      <td>3635.556641</td>\n",
       "    </tr>\n",
       "    <tr>\n",
       "      <th>...</th>\n",
       "      <td>...</td>\n",
       "      <td>...</td>\n",
       "    </tr>\n",
       "    <tr>\n",
       "      <th>2023-01-27</th>\n",
       "      <td>NaN</td>\n",
       "      <td>4115.127930</td>\n",
       "    </tr>\n",
       "    <tr>\n",
       "      <th>2023-01-28</th>\n",
       "      <td>NaN</td>\n",
       "      <td>4116.540527</td>\n",
       "    </tr>\n",
       "    <tr>\n",
       "      <th>2023-01-29</th>\n",
       "      <td>NaN</td>\n",
       "      <td>4117.941406</td>\n",
       "    </tr>\n",
       "    <tr>\n",
       "      <th>2023-01-30</th>\n",
       "      <td>NaN</td>\n",
       "      <td>4119.329590</td>\n",
       "    </tr>\n",
       "    <tr>\n",
       "      <th>2023-01-31</th>\n",
       "      <td>NaN</td>\n",
       "      <td>4120.705078</td>\n",
       "    </tr>\n",
       "  </tbody>\n",
       "</table>\n",
       "<p>570 rows × 2 columns</p>\n",
       "</div>"
      ],
      "text/plain": [
       "                           Close  Predictions\n",
       "Date                                         \n",
       "2020-11-25 00:00:00  3629.649902  3605.439453\n",
       "2020-11-27 00:00:00  3638.350098  3612.741455\n",
       "2020-11-30 00:00:00  3621.629883  3620.813965\n",
       "2020-12-01 00:00:00  3662.449951  3627.020508\n",
       "2020-12-02 00:00:00  3669.010010  3635.556641\n",
       "...                          ...          ...\n",
       "2023-01-27                   NaN  4115.127930\n",
       "2023-01-28                   NaN  4116.540527\n",
       "2023-01-29                   NaN  4117.941406\n",
       "2023-01-30                   NaN  4119.329590\n",
       "2023-01-31                   NaN  4120.705078\n",
       "\n",
       "[570 rows x 2 columns]"
      ]
     },
     "execution_count": 49,
     "metadata": {},
     "output_type": "execute_result"
    }
   ],
   "source": [
    "valid = data[tlen:]\n",
    "valid['Predictions'] = predictions\n",
    "\n",
    "\n",
    "valid=pd.concat([valid,NewPred] )\n",
    "valid"
   ]
  },
  {
   "cell_type": "code",
   "execution_count": 50,
   "id": "521883fe",
   "metadata": {},
   "outputs": [
    {
     "data": {
      "text/html": [
       "<div>\n",
       "<style scoped>\n",
       "    .dataframe tbody tr th:only-of-type {\n",
       "        vertical-align: middle;\n",
       "    }\n",
       "\n",
       "    .dataframe tbody tr th {\n",
       "        vertical-align: top;\n",
       "    }\n",
       "\n",
       "    .dataframe thead th {\n",
       "        text-align: right;\n",
       "    }\n",
       "</style>\n",
       "<table border=\"1\" class=\"dataframe\">\n",
       "  <thead>\n",
       "    <tr style=\"text-align: right;\">\n",
       "      <th></th>\n",
       "      <th>Close</th>\n",
       "      <th>Predictions</th>\n",
       "    </tr>\n",
       "    <tr>\n",
       "      <th>Date</th>\n",
       "      <th></th>\n",
       "      <th></th>\n",
       "    </tr>\n",
       "  </thead>\n",
       "  <tbody>\n",
       "    <tr>\n",
       "      <th>2020-11-25 00:00:00</th>\n",
       "      <td>3629.649902</td>\n",
       "      <td>3605.439453</td>\n",
       "    </tr>\n",
       "    <tr>\n",
       "      <th>2020-11-27 00:00:00</th>\n",
       "      <td>3638.350098</td>\n",
       "      <td>3612.741455</td>\n",
       "    </tr>\n",
       "    <tr>\n",
       "      <th>2020-11-30 00:00:00</th>\n",
       "      <td>3621.629883</td>\n",
       "      <td>3620.813965</td>\n",
       "    </tr>\n",
       "    <tr>\n",
       "      <th>2020-12-01 00:00:00</th>\n",
       "      <td>3662.449951</td>\n",
       "      <td>3627.020508</td>\n",
       "    </tr>\n",
       "    <tr>\n",
       "      <th>2020-12-02 00:00:00</th>\n",
       "      <td>3669.010010</td>\n",
       "      <td>3635.556641</td>\n",
       "    </tr>\n",
       "  </tbody>\n",
       "</table>\n",
       "</div>"
      ],
      "text/plain": [
       "                           Close  Predictions\n",
       "Date                                         \n",
       "2020-11-25 00:00:00  3629.649902  3605.439453\n",
       "2020-11-27 00:00:00  3638.350098  3612.741455\n",
       "2020-11-30 00:00:00  3621.629883  3620.813965\n",
       "2020-12-01 00:00:00  3662.449951  3627.020508\n",
       "2020-12-02 00:00:00  3669.010010  3635.556641"
      ]
     },
     "execution_count": 50,
     "metadata": {},
     "output_type": "execute_result"
    }
   ],
   "source": [
    "valid.head()"
   ]
  },
  {
   "cell_type": "code",
   "execution_count": 51,
   "id": "f047f731",
   "metadata": {},
   "outputs": [
    {
     "data": {
      "image/png": "[encoded data removed]",
      "text/plain": [
       "<Figure size 1152x432 with 1 Axes>"
      ]
     },
     "metadata": {},
     "output_type": "display_data"
    }
   ],
   "source": [
    "# Plot the data\n",
    "train = data[:tlen]\n",
    "#valid = data[tlen:]\n",
    "#valid['Predictions'] = predictions\n",
    "\n",
    "# Visualize the data\n",
    "plt.figure(figsize=(16,6))\n",
    "plt.title('LSTM Model for ^GSPC Ticker')\n",
    "plt.xlabel('Date', fontsize=18)\n",
    "plt.ylabel('Close Price USD ($)', fontsize=18)\n",
    "plt.plot(train['Close'] , color='black', alpha=0.5)\n",
    "plt.plot(valid[['Close', 'Predictions'] ] )\n",
    "plt.legend(['Train', 'Actual', 'Predicted'], loc='lower right')\n",
    "plt.show()"
   ]
  },
  {
   "cell_type": "code",
   "execution_count": 52,
   "id": "4d223d93",
   "metadata": {},
   "outputs": [
    {
     "data": {
      "image/png": "[encoded data removed]",
      "text/plain": [
       "<Figure size 1152x432 with 1 Axes>"
      ]
     },
     "metadata": {},
     "output_type": "display_data"
    }
   ],
   "source": [
    "# Visualize the data\n",
    "plt.figure(figsize=(16,6))\n",
    "plt.title('Upcoming Days Prediction')\n",
    "plt.xlabel('Date', fontsize=18)\n",
    "plt.ylabel('Predicted Price USD ($)', fontsize=18)\n",
    "plt.plot(NewPred['Predictions'].iloc[:10] , color='black', alpha=0.5)\n",
    "plt.show()"
   ]
  },
  {
   "cell_type": "code",
   "execution_count": null,
   "id": "b762602e",
   "metadata": {},
   "outputs": [],
   "source": []
  }
 ],
 "metadata": {
  "kernelspec": {
   "display_name": "Python 3 (ipykernel)",
   "language": "python",
   "name": "python3"
  },
  "language_info": {
   "codemirror_mode": {
    "name": "ipython",
    "version": 3
   },
   "file_extension": ".py",
   "mimetype": "text/x-python",
   "name": "python",
   "nbconvert_exporter": "python",
   "pygments_lexer": "ipython3",
   "version": "3.9.12"
  }
 },
 "nbformat": 4,
 "nbformat_minor": 5
}
